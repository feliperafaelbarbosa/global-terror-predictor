{
  "cells": [
    {
      "cell_type": "markdown",
      "metadata": {
        "id": "view-in-github",
        "colab_type": "text"
      },
      "source": [
        "<a href=\"https://colab.research.google.com/github/felipetibarbosa/global-terror-predictor/blob/main/global_terror_predictor.ipynb\" target=\"_parent\"><img src=\"https://colab.research.google.com/assets/colab-badge.svg\" alt=\"Open In Colab\"/></a>"
      ]
    },
    {
      "cell_type": "markdown",
      "id": "6c56f7d1-2aeb-44fc-ac9f-cf408f50147c",
      "metadata": {
        "jp-MarkdownHeadingCollapsed": true,
        "id": "6c56f7d1-2aeb-44fc-ac9f-cf408f50147c"
      },
      "source": [
        "# 1 - Classificação Precisa de Incidentes Terroristas: Identificando Padrões e Fatores de Risco"
      ]
    },
    {
      "cell_type": "markdown",
      "id": "a2c23c4f-9d01-4087-bd3b-6c34132b46dd",
      "metadata": {
        "id": "a2c23c4f-9d01-4087-bd3b-6c34132b46dd"
      },
      "source": [
        "## 1.1 Sobre o Projeto"
      ]
    },
    {
      "cell_type": "markdown",
      "id": "a023cf11-b5f9-44ab-a378-17a72d4e34da",
      "metadata": {
        "id": "a023cf11-b5f9-44ab-a378-17a72d4e34da"
      },
      "source": [
        "O projeto utiliza o Global Terrorism Database (GTD), acessível através do link: [Global Terroism Database](https://www.start.umd.edu/gtd/).\n",
        "\n",
        "Este conjunto de dados contém informações sobre incidentes terroristas em todo o mundo desde 1970. Ele inclui características detalhadas como data, localização, grupo responsável, tipo de ataque, arma utilizada, entre outros. A base é extremamente rica, com mais de 200 mil registros e mais de 100 features, sendo uma excelente fonte para análise preditiva e classificação.\n",
        "\n",
        "O objetivo deste projeto é desenvolver um sistema de classificação para identificar incidentes terroristas com base em características específicas, utilizando técnicas de machine learning para reconhecer padrões nos dados históricos.\n",
        "\n",
        "![image.png](attachment:image.png)"
      ]
    },
    {
      "cell_type": "markdown",
      "id": "f3246130-ab82-4d6e-8090-fe16ca32eb7c",
      "metadata": {
        "id": "f3246130-ab82-4d6e-8090-fe16ca32eb7c"
      },
      "source": [
        "## 1.2 Sobre a Base de Dados"
      ]
    },
    {
      "cell_type": "markdown",
      "id": "4ac31a54-716e-4955-a38b-f8a50ee35ac6",
      "metadata": {
        "id": "4ac31a54-716e-4955-a38b-f8a50ee35ac6"
      },
      "source": [
        "**Global Terrorism Database (GTD)**\n",
        "\n",
        "Este conjunto de dados contém mais de 200.000 incidentes, com informações detalhadas sobre o contexto do ataque, como a localização, o tipo de arma, o método do ataque, as vítimas, e os grupos terroristas envolvidos.\n",
        "\n",
        "**Problema:** O projeto visa prever o tipo de ataque e identificar o grupo responsável, utilizando características como a localização, a arma utilizada e a data do incidente.\n",
        "\n",
        "**Features a serem utilizadas:** Localização geográfica (latitude e longitude), data, tipo de ataque, tipo de arma, número de vítimas, grupo responsável. [Detalhes das Features](https://www.start.umd.edu/gtd/downloads/Codebook.pdf).\n",
        "\n"
      ]
    },
    {
      "cell_type": "markdown",
      "id": "b2f71d26-54ff-4ce1-ab6e-63df4efd6aa2",
      "metadata": {
        "id": "b2f71d26-54ff-4ce1-ab6e-63df4efd6aa2"
      },
      "source": [
        "## 1.3 Explicando o Projeto"
      ]
    },
    {
      "cell_type": "markdown",
      "id": "eff48930-da8d-439e-8c01-ea234eaaa4c3",
      "metadata": {
        "id": "eff48930-da8d-439e-8c01-ea234eaaa4c3"
      },
      "source": [
        "O projeto aborda a necessidade de prever e classificar incidentes terroristas com base em padrões históricos. Compreender os fatores que influenciam um ataque pode ajudar na alocação de recursos de segurança, antecipando possíveis ameaças.\n",
        "\n",
        "A base de dados GTD oferece uma ampla gama de atributos que permitem identificar características recorrentes em ataques específicos. O objetivo é criar um modelo preditivo capaz de classificar novos incidentes terroristas com base em dados de eventos passados, utilizando técnicas como redes neurais, árvores de decisão ou ensemble learning.\n",
        "\n",
        "O foco é em maximizar a precisão e minimizar falsos positivos, garantindo que o modelo seja útil para os responsáveis pela segurança pública e política de defesa."
      ]
    },
    {
      "cell_type": "markdown",
      "id": "0e87e24a-d3e3-40ba-a74b-6ac65ea12eaa",
      "metadata": {
        "id": "0e87e24a-d3e3-40ba-a74b-6ac65ea12eaa"
      },
      "source": [
        "## 1.4 Proposta"
      ]
    },
    {
      "cell_type": "markdown",
      "id": "60c6f4bc-ac57-4178-bbbe-8df4a8cb57f9",
      "metadata": {
        "id": "60c6f4bc-ac57-4178-bbbe-8df4a8cb57f9"
      },
      "source": [
        "---\n",
        "\n",
        "**Problema:** Como identificar padrões em ataques terroristas com base em dados históricos para prever o tipo de ataque e o grupo responsável?\n",
        "\n",
        "**Features a serem utilizadas:** Localização, data, tipo de ataque, tipo de arma, número de vítimas, grupo responsável.\n",
        "\n",
        "**A pergunta a ser respondida é:** Quais fatores influenciam o tipo de ataque e o grupo responsável por ele, e como podemos usar essas informações para prever futuros ataques com alta precisão?"
      ]
    },
    {
      "cell_type": "markdown",
      "id": "d6d5e049-a309-47f2-99a6-67a658b69b2d",
      "metadata": {
        "jp-MarkdownHeadingCollapsed": true,
        "id": "d6d5e049-a309-47f2-99a6-67a658b69b2d"
      },
      "source": [
        "# 2 - Metodologia CRISP-DM"
      ]
    },
    {
      "cell_type": "markdown",
      "id": "a04e9fff-5b8d-4ffc-a4b4-4e76151d8e9b",
      "metadata": {
        "id": "a04e9fff-5b8d-4ffc-a4b4-4e76151d8e9b"
      },
      "source": [
        "CRISP-DM é um framework amplamente utilizado para Mineração de Dados que descreve uma abordagem estruturada para, planejamento, execução e avaliação da mineração de dados dos projetos. Esse framework fornece um passo a passo de processos que podem ser adaptados para várias áreas de negócio e tecnicas de mineração de dados, tornando-se uma ferramenta valiosa, para iniciantes e profissionais experientes.\n",
        "\n",
        "Texto adaptado de: https://medium.com/@avikumart_/crisp-dm-framework-a-foundational-data-mining-process-model-86fe642da18c\n",
        "\n",
        "---\n",
        "\n",
        "![image.png](attachment:92f5a6f4-46e4-424a-a61d-02ff7db926b2.png)\n",
        "\n",
        "Imagem retirada do slide: https://s2.smu.edu/~mhd/8331f03/crisp.pdf"
      ]
    },
    {
      "cell_type": "markdown",
      "id": "737d7ebc-dc00-4599-9657-6b6791b79793",
      "metadata": {
        "id": "737d7ebc-dc00-4599-9657-6b6791b79793"
      },
      "source": [
        "## 2.1 Compreensão do Negócio"
      ]
    },
    {
      "cell_type": "markdown",
      "id": "78a1290d-2c98-4eeb-9771-b06fe41b58ae",
      "metadata": {
        "id": "78a1290d-2c98-4eeb-9771-b06fe41b58ae"
      },
      "source": [
        "- **Objetivo:** Identificar o problema de segurança pública relacionado a ataques terroristas, visando prever o tipo de ataque e identificar padrões em grupos terroristas.\n",
        "\n",
        "- **Tarefas**:\n",
        "    - Compreender a importância da previsão de ataques para a segurança global.\n",
        "    - Definir métricas, como precisão, recall e taxa de falsos positivos/negativos."
      ]
    },
    {
      "cell_type": "markdown",
      "id": "4654a4a1-ba62-441f-b60f-160690fb95e3",
      "metadata": {
        "id": "4654a4a1-ba62-441f-b60f-160690fb95e3"
      },
      "source": [
        "## 2.2 Entendimento dos Dados"
      ]
    },
    {
      "cell_type": "markdown",
      "id": "e7bff411-be59-4aa2-ba50-df4de8abda54",
      "metadata": {
        "id": "e7bff411-be59-4aa2-ba50-df4de8abda54"
      },
      "source": [
        "- Objetivo: Coletar e entender as características dos dados do GTD.\n",
        "\n",
        "- Tarefas:\n",
        "    - Explorar o conjunto de dados GTD para identificar padrões e atributos relevantes.\n",
        "    - Analisar a distribuição de atributos como localização, tipo de ataque e grupo responsável."
      ]
    },
    {
      "cell_type": "markdown",
      "id": "882adb2c-71f4-4900-8956-fffbdf89934c",
      "metadata": {
        "id": "882adb2c-71f4-4900-8956-fffbdf89934c"
      },
      "source": [
        "## 2.3 Preparação dos Dados"
      ]
    },
    {
      "cell_type": "markdown",
      "id": "d08ebf3e-8a5d-4848-87c7-e2337c110a80",
      "metadata": {
        "id": "d08ebf3e-8a5d-4848-87c7-e2337c110a80"
      },
      "source": [
        "- Objetivo: Preparar os dados para a modelagem.\n",
        "\n",
        "- Tarefas:\n",
        "    - Limpar dados inconsistentes ou ausentes.\n",
        "    - Realizar transformações de atributos, como converter datas e localizações em features relevantes.\n",
        "    - Dividir os dados em conjuntos de treinamento, validação e teste.\n"
      ]
    },
    {
      "cell_type": "markdown",
      "id": "a207bd5b-0c2e-4712-aa3b-348e7230490f",
      "metadata": {
        "id": "a207bd5b-0c2e-4712-aa3b-348e7230490f"
      },
      "source": [
        "## 2.4 Modelagem"
      ]
    },
    {
      "cell_type": "markdown",
      "id": "0aa4f3bb-fe86-4e7e-aa26-f1bb00d145db",
      "metadata": {
        "id": "0aa4f3bb-fe86-4e7e-aa26-f1bb00d145db"
      },
      "source": [
        "- Objetivo: Desenvolver modelos preditivos utilizando algoritmos de machine learning.\n",
        "- Tarefas:\n",
        "    - Aplicar algoritmos de classificação (ex.: Random Forest, Redes Neurais, XGBoost) para prever o tipo de ataque.\n",
        "    - Ajustar hiperparâmetros e comparar modelos para otimizar a performance."
      ]
    },
    {
      "cell_type": "markdown",
      "id": "0a900128-178d-4500-ad72-68974eed6d2c",
      "metadata": {
        "id": "0a900128-178d-4500-ad72-68974eed6d2c"
      },
      "source": [
        "## 2.5 Avaliação"
      ]
    },
    {
      "cell_type": "markdown",
      "id": "f0758835-e3ee-417d-aca9-aabb2b6413a5",
      "metadata": {
        "id": "f0758835-e3ee-417d-aca9-aabb2b6413a5"
      },
      "source": [
        "- Objetivo: Avaliar a performance dos modelos utilizando métricas de classificação.\n",
        "- Tarefas:\n",
        "    - Avaliar precisão, recall, F1-score e ROC-AUC.\n",
        "    - Comparar os resultados dos diferentes modelos e ajustar conforme necessário."
      ]
    },
    {
      "cell_type": "markdown",
      "id": "8558c95f-6429-4957-a64a-f71275f41b74",
      "metadata": {
        "id": "8558c95f-6429-4957-a64a-f71275f41b74"
      },
      "source": [
        "## 2.6 Implementação"
      ]
    },
    {
      "cell_type": "markdown",
      "id": "eea801b4-c624-4ed7-8933-5cc7889cca67",
      "metadata": {
        "id": "eea801b4-c624-4ed7-8933-5cc7889cca67"
      },
      "source": [
        "- Objetivo: Implementar o modelo preditivo para uso prático.\n",
        "- Tarefas:\n",
        "    - Desenvolver um pipeline para classificar novos incidentes com base nos dados do GTD.\n",
        "    - Documentar o processo e fornecer insights sobre possíveis melhorias."
      ]
    },
    {
      "cell_type": "markdown",
      "source": [
        "# 3 - Execução do Projeto"
      ],
      "metadata": {
        "id": "8E4SZGZZANBI"
      },
      "id": "8E4SZGZZANBI"
    },
    {
      "cell_type": "markdown",
      "source": [
        "## 3.1 Carregamento de Dependências e da Base de Dados"
      ],
      "metadata": {
        "id": "lYW1goAIA1bS"
      },
      "id": "lYW1goAIA1bS"
    },
    {
      "cell_type": "code",
      "execution_count": null,
      "id": "1386045c",
      "metadata": {
        "id": "1386045c",
        "outputId": "d51e08cc-69d9-4e19-b2a7-d4da560baa64"
      },
      "outputs": [
        {
          "name": "stdout",
          "output_type": "stream",
          "text": [
            "Requirement already satisfied: pandas in ./maprojectufpa/lib/python3.11/site-packages (2.2.2)\n",
            "Requirement already satisfied: numpy>=1.23.2 in ./maprojectufpa/lib/python3.11/site-packages (from pandas) (2.1.1)\n",
            "Requirement already satisfied: python-dateutil>=2.8.2 in ./maprojectufpa/lib/python3.11/site-packages (from pandas) (2.9.0.post0)\n",
            "Requirement already satisfied: pytz>=2020.1 in ./maprojectufpa/lib/python3.11/site-packages (from pandas) (2024.1)\n",
            "Requirement already satisfied: tzdata>=2022.7 in ./maprojectufpa/lib/python3.11/site-packages (from pandas) (2024.1)\n",
            "Requirement already satisfied: six>=1.5 in ./maprojectufpa/lib/python3.11/site-packages (from python-dateutil>=2.8.2->pandas) (1.16.0)\n",
            "Requirement already satisfied: openpyxl in ./maprojectufpa/lib/python3.11/site-packages (3.1.5)\n",
            "Requirement already satisfied: et-xmlfile in ./maprojectufpa/lib/python3.11/site-packages (from openpyxl) (1.1.0)\n",
            "Collecting matplotlib\n",
            "  Using cached matplotlib-3.9.2-cp311-cp311-manylinux_2_17_x86_64.manylinux2014_x86_64.whl (8.3 MB)\n",
            "Collecting contourpy>=1.0.1\n",
            "  Using cached contourpy-1.3.0-cp311-cp311-manylinux_2_17_x86_64.manylinux2014_x86_64.whl (323 kB)\n",
            "Collecting cycler>=0.10\n",
            "  Using cached cycler-0.12.1-py3-none-any.whl (8.3 kB)\n",
            "Collecting fonttools>=4.22.0\n",
            "  Using cached fonttools-4.53.1-cp311-cp311-manylinux_2_17_x86_64.manylinux2014_x86_64.whl (4.9 MB)\n",
            "Collecting kiwisolver>=1.3.1\n",
            "  Using cached kiwisolver-1.4.7-cp311-cp311-manylinux_2_17_x86_64.manylinux2014_x86_64.whl (1.4 MB)\n",
            "Requirement already satisfied: numpy>=1.23 in ./maprojectufpa/lib/python3.11/site-packages (from matplotlib) (2.1.1)\n",
            "Requirement already satisfied: packaging>=20.0 in ./maprojectufpa/lib/python3.11/site-packages (from matplotlib) (24.1)\n",
            "Collecting pillow>=8\n",
            "  Using cached pillow-10.4.0-cp311-cp311-manylinux_2_28_x86_64.whl (4.5 MB)\n",
            "Collecting pyparsing>=2.3.1\n",
            "  Using cached pyparsing-3.1.4-py3-none-any.whl (104 kB)\n",
            "Requirement already satisfied: python-dateutil>=2.7 in ./maprojectufpa/lib/python3.11/site-packages (from matplotlib) (2.9.0.post0)\n",
            "Requirement already satisfied: six>=1.5 in ./maprojectufpa/lib/python3.11/site-packages (from python-dateutil>=2.7->matplotlib) (1.16.0)\n",
            "Installing collected packages: pyparsing, pillow, kiwisolver, fonttools, cycler, contourpy, matplotlib\n",
            "Successfully installed contourpy-1.3.0 cycler-0.12.1 fonttools-4.53.1 kiwisolver-1.4.7 matplotlib-3.9.2 pillow-10.4.0 pyparsing-3.1.4\n"
          ]
        }
      ],
      "source": [
        "!pip install pandas\n",
        "!pip install openpyxl\n",
        "!pip install matplotlib"
      ]
    },
    {
      "cell_type": "code",
      "execution_count": null,
      "id": "fffb4ab0",
      "metadata": {
        "id": "fffb4ab0"
      },
      "outputs": [],
      "source": [
        "import pandas as pd\n",
        "from matplotlib import pyplot as plt"
      ]
    },
    {
      "cell_type": "code",
      "execution_count": null,
      "id": "d5e2eb2f",
      "metadata": {
        "id": "d5e2eb2f"
      },
      "outputs": [],
      "source": [
        "df = pd.read_excel('globalterrorismdb_0522dist.xlsx')"
      ]
    },
    {
      "cell_type": "code",
      "execution_count": null,
      "id": "7d23a537",
      "metadata": {
        "id": "7d23a537",
        "outputId": "9fab7dde-13ff-4619-b743-197a5808da4a"
      },
      "outputs": [
        {
          "data": {
            "text/html": [
              "<div>\n",
              "<style scoped>\n",
              "    .dataframe tbody tr th:only-of-type {\n",
              "        vertical-align: middle;\n",
              "    }\n",
              "\n",
              "    .dataframe tbody tr th {\n",
              "        vertical-align: top;\n",
              "    }\n",
              "\n",
              "    .dataframe thead th {\n",
              "        text-align: right;\n",
              "    }\n",
              "</style>\n",
              "<table border=\"1\" class=\"dataframe\">\n",
              "  <thead>\n",
              "    <tr style=\"text-align: right;\">\n",
              "      <th></th>\n",
              "      <th>eventid</th>\n",
              "      <th>iyear</th>\n",
              "      <th>imonth</th>\n",
              "      <th>iday</th>\n",
              "      <th>approxdate</th>\n",
              "      <th>extended</th>\n",
              "      <th>resolution</th>\n",
              "      <th>country</th>\n",
              "      <th>country_txt</th>\n",
              "      <th>region</th>\n",
              "      <th>...</th>\n",
              "      <th>addnotes</th>\n",
              "      <th>scite1</th>\n",
              "      <th>scite2</th>\n",
              "      <th>scite3</th>\n",
              "      <th>dbsource</th>\n",
              "      <th>INT_LOG</th>\n",
              "      <th>INT_IDEO</th>\n",
              "      <th>INT_MISC</th>\n",
              "      <th>INT_ANY</th>\n",
              "      <th>related</th>\n",
              "    </tr>\n",
              "  </thead>\n",
              "  <tbody>\n",
              "    <tr>\n",
              "      <th>0</th>\n",
              "      <td>197000000001</td>\n",
              "      <td>1970</td>\n",
              "      <td>7</td>\n",
              "      <td>2</td>\n",
              "      <td>NaN</td>\n",
              "      <td>0</td>\n",
              "      <td>NaT</td>\n",
              "      <td>58</td>\n",
              "      <td>Dominican Republic</td>\n",
              "      <td>2</td>\n",
              "      <td>...</td>\n",
              "      <td>NaN</td>\n",
              "      <td>NaN</td>\n",
              "      <td>NaN</td>\n",
              "      <td>NaN</td>\n",
              "      <td>PGIS</td>\n",
              "      <td>0</td>\n",
              "      <td>0</td>\n",
              "      <td>0</td>\n",
              "      <td>0</td>\n",
              "      <td>NaN</td>\n",
              "    </tr>\n",
              "    <tr>\n",
              "      <th>1</th>\n",
              "      <td>197000000002</td>\n",
              "      <td>1970</td>\n",
              "      <td>0</td>\n",
              "      <td>0</td>\n",
              "      <td>NaN</td>\n",
              "      <td>0</td>\n",
              "      <td>NaT</td>\n",
              "      <td>130</td>\n",
              "      <td>Mexico</td>\n",
              "      <td>1</td>\n",
              "      <td>...</td>\n",
              "      <td>NaN</td>\n",
              "      <td>NaN</td>\n",
              "      <td>NaN</td>\n",
              "      <td>NaN</td>\n",
              "      <td>PGIS</td>\n",
              "      <td>0</td>\n",
              "      <td>1</td>\n",
              "      <td>1</td>\n",
              "      <td>1</td>\n",
              "      <td>NaN</td>\n",
              "    </tr>\n",
              "    <tr>\n",
              "      <th>2</th>\n",
              "      <td>197001000001</td>\n",
              "      <td>1970</td>\n",
              "      <td>1</td>\n",
              "      <td>0</td>\n",
              "      <td>NaN</td>\n",
              "      <td>0</td>\n",
              "      <td>NaT</td>\n",
              "      <td>160</td>\n",
              "      <td>Philippines</td>\n",
              "      <td>5</td>\n",
              "      <td>...</td>\n",
              "      <td>NaN</td>\n",
              "      <td>NaN</td>\n",
              "      <td>NaN</td>\n",
              "      <td>NaN</td>\n",
              "      <td>PGIS</td>\n",
              "      <td>-9</td>\n",
              "      <td>-9</td>\n",
              "      <td>1</td>\n",
              "      <td>1</td>\n",
              "      <td>NaN</td>\n",
              "    </tr>\n",
              "    <tr>\n",
              "      <th>3</th>\n",
              "      <td>197001000002</td>\n",
              "      <td>1970</td>\n",
              "      <td>1</td>\n",
              "      <td>0</td>\n",
              "      <td>NaN</td>\n",
              "      <td>0</td>\n",
              "      <td>NaT</td>\n",
              "      <td>78</td>\n",
              "      <td>Greece</td>\n",
              "      <td>8</td>\n",
              "      <td>...</td>\n",
              "      <td>NaN</td>\n",
              "      <td>NaN</td>\n",
              "      <td>NaN</td>\n",
              "      <td>NaN</td>\n",
              "      <td>PGIS</td>\n",
              "      <td>-9</td>\n",
              "      <td>-9</td>\n",
              "      <td>1</td>\n",
              "      <td>1</td>\n",
              "      <td>NaN</td>\n",
              "    </tr>\n",
              "    <tr>\n",
              "      <th>4</th>\n",
              "      <td>197001000003</td>\n",
              "      <td>1970</td>\n",
              "      <td>1</td>\n",
              "      <td>0</td>\n",
              "      <td>NaN</td>\n",
              "      <td>0</td>\n",
              "      <td>NaT</td>\n",
              "      <td>101</td>\n",
              "      <td>Japan</td>\n",
              "      <td>4</td>\n",
              "      <td>...</td>\n",
              "      <td>NaN</td>\n",
              "      <td>NaN</td>\n",
              "      <td>NaN</td>\n",
              "      <td>NaN</td>\n",
              "      <td>PGIS</td>\n",
              "      <td>-9</td>\n",
              "      <td>-9</td>\n",
              "      <td>1</td>\n",
              "      <td>1</td>\n",
              "      <td>NaN</td>\n",
              "    </tr>\n",
              "  </tbody>\n",
              "</table>\n",
              "<p>5 rows × 135 columns</p>\n",
              "</div>"
            ],
            "text/plain": [
              "        eventid  iyear  imonth  iday approxdate  extended resolution  country  \\\n",
              "0  197000000001   1970       7     2        NaN         0        NaT       58   \n",
              "1  197000000002   1970       0     0        NaN         0        NaT      130   \n",
              "2  197001000001   1970       1     0        NaN         0        NaT      160   \n",
              "3  197001000002   1970       1     0        NaN         0        NaT       78   \n",
              "4  197001000003   1970       1     0        NaN         0        NaT      101   \n",
              "\n",
              "          country_txt  region  ... addnotes scite1 scite2  scite3  dbsource  \\\n",
              "0  Dominican Republic       2  ...      NaN    NaN    NaN     NaN      PGIS   \n",
              "1              Mexico       1  ...      NaN    NaN    NaN     NaN      PGIS   \n",
              "2         Philippines       5  ...      NaN    NaN    NaN     NaN      PGIS   \n",
              "3              Greece       8  ...      NaN    NaN    NaN     NaN      PGIS   \n",
              "4               Japan       4  ...      NaN    NaN    NaN     NaN      PGIS   \n",
              "\n",
              "   INT_LOG  INT_IDEO INT_MISC INT_ANY  related  \n",
              "0        0         0        0       0      NaN  \n",
              "1        0         1        1       1      NaN  \n",
              "2       -9        -9        1       1      NaN  \n",
              "3       -9        -9        1       1      NaN  \n",
              "4       -9        -9        1       1      NaN  \n",
              "\n",
              "[5 rows x 135 columns]"
            ]
          },
          "execution_count": 13,
          "metadata": {},
          "output_type": "execute_result"
        }
      ],
      "source": [
        "df.head(5)"
      ]
    },
    {
      "cell_type": "code",
      "execution_count": null,
      "id": "57e278ba",
      "metadata": {
        "id": "57e278ba",
        "outputId": "8d862183-8210-406d-a278-de41b5cb3383"
      },
      "outputs": [
        {
          "name": "stdout",
          "output_type": "stream",
          "text": [
            "209706 Instancias.\n",
            "135 Features.\n"
          ]
        }
      ],
      "source": [
        "print(f'{df.shape[0]} Instancias.', end='\\n')\n",
        "print(f'{df.shape[1]} Features.')"
      ]
    },
    {
      "cell_type": "code",
      "execution_count": null,
      "id": "ea81904f",
      "metadata": {
        "id": "ea81904f",
        "outputId": "b6b260d4-dd74-460d-a40f-a88e268a9831"
      },
      "outputs": [
        {
          "name": "stdout",
          "output_type": "stream",
          "text": [
            "<class 'pandas.core.frame.DataFrame'>\n",
            "RangeIndex: 209706 entries, 0 to 209705\n",
            "Columns: 135 entries, eventid to related\n",
            "dtypes: datetime64[ns](1), float64(54), int64(23), object(57)\n",
            "memory usage: 729.8 MB\n"
          ]
        }
      ],
      "source": [
        "pd.set_option('display.max_columns', None)\n",
        "df.info(memory_usage='deep')"
      ]
    },
    {
      "cell_type": "code",
      "execution_count": null,
      "id": "c99811a6",
      "metadata": {
        "id": "c99811a6",
        "outputId": "f433a617-19b6-44e1-bd4a-98615cda611e"
      },
      "outputs": [
        {
          "data": {
            "text/html": [
              "<div>\n",
              "<style scoped>\n",
              "    .dataframe tbody tr th:only-of-type {\n",
              "        vertical-align: middle;\n",
              "    }\n",
              "\n",
              "    .dataframe tbody tr th {\n",
              "        vertical-align: top;\n",
              "    }\n",
              "\n",
              "    .dataframe thead th {\n",
              "        text-align: right;\n",
              "    }\n",
              "</style>\n",
              "<table border=\"1\" class=\"dataframe\">\n",
              "  <thead>\n",
              "    <tr style=\"text-align: right;\">\n",
              "      <th></th>\n",
              "      <th>eventid</th>\n",
              "      <th>iyear</th>\n",
              "      <th>imonth</th>\n",
              "      <th>iday</th>\n",
              "      <th>extended</th>\n",
              "      <th>resolution</th>\n",
              "      <th>country</th>\n",
              "      <th>region</th>\n",
              "      <th>latitude</th>\n",
              "      <th>longitude</th>\n",
              "      <th>...</th>\n",
              "      <th>ransomamt</th>\n",
              "      <th>ransomamtus</th>\n",
              "      <th>ransompaid</th>\n",
              "      <th>ransompaidus</th>\n",
              "      <th>hostkidoutcome</th>\n",
              "      <th>nreleased</th>\n",
              "      <th>INT_LOG</th>\n",
              "      <th>INT_IDEO</th>\n",
              "      <th>INT_MISC</th>\n",
              "      <th>INT_ANY</th>\n",
              "    </tr>\n",
              "  </thead>\n",
              "  <tbody>\n",
              "    <tr>\n",
              "      <th>count</th>\n",
              "      <td>2.097060e+05</td>\n",
              "      <td>209706.000000</td>\n",
              "      <td>209706.000000</td>\n",
              "      <td>209706.000000</td>\n",
              "      <td>209706.000000</td>\n",
              "      <td>4861</td>\n",
              "      <td>209706.000000</td>\n",
              "      <td>209706.000000</td>\n",
              "      <td>205015.000000</td>\n",
              "      <td>205014.000000</td>\n",
              "      <td>...</td>\n",
              "      <td>1.533000e+03</td>\n",
              "      <td>7.340000e+02</td>\n",
              "      <td>9.510000e+02</td>\n",
              "      <td>725.000000</td>\n",
              "      <td>14091.000000</td>\n",
              "      <td>13494.000000</td>\n",
              "      <td>209706.000000</td>\n",
              "      <td>209706.000000</td>\n",
              "      <td>209706.000000</td>\n",
              "      <td>209706.000000</td>\n",
              "    </tr>\n",
              "    <tr>\n",
              "      <th>mean</th>\n",
              "      <td>2.004867e+11</td>\n",
              "      <td>2004.800993</td>\n",
              "      <td>6.455285</td>\n",
              "      <td>15.527930</td>\n",
              "      <td>0.051525</td>\n",
              "      <td>2006-12-14 11:22:40.581978880</td>\n",
              "      <td>130.291351</td>\n",
              "      <td>7.279854</td>\n",
              "      <td>23.358696</td>\n",
              "      <td>30.416738</td>\n",
              "      <td>...</td>\n",
              "      <td>2.791526e+06</td>\n",
              "      <td>3.211036e+05</td>\n",
              "      <td>6.204108e+05</td>\n",
              "      <td>182.750345</td>\n",
              "      <td>4.705912</td>\n",
              "      <td>-31.945531</td>\n",
              "      <td>-4.424289</td>\n",
              "      <td>-4.339318</td>\n",
              "      <td>0.086841</td>\n",
              "      <td>-3.850758</td>\n",
              "    </tr>\n",
              "    <tr>\n",
              "      <th>min</th>\n",
              "      <td>1.970000e+11</td>\n",
              "      <td>1970.000000</td>\n",
              "      <td>0.000000</td>\n",
              "      <td>0.000000</td>\n",
              "      <td>0.000000</td>\n",
              "      <td>1970-03-08 00:00:00</td>\n",
              "      <td>4.000000</td>\n",
              "      <td>1.000000</td>\n",
              "      <td>-53.154613</td>\n",
              "      <td>-176.176447</td>\n",
              "      <td>...</td>\n",
              "      <td>-9.900000e+01</td>\n",
              "      <td>-9.900000e+01</td>\n",
              "      <td>-9.900000e+01</td>\n",
              "      <td>-99.000000</td>\n",
              "      <td>1.000000</td>\n",
              "      <td>-100.000000</td>\n",
              "      <td>-9.000000</td>\n",
              "      <td>-9.000000</td>\n",
              "      <td>-9.000000</td>\n",
              "      <td>-9.000000</td>\n",
              "    </tr>\n",
              "    <tr>\n",
              "      <th>25%</th>\n",
              "      <td>1.992080e+11</td>\n",
              "      <td>1992.000000</td>\n",
              "      <td>4.000000</td>\n",
              "      <td>8.000000</td>\n",
              "      <td>0.000000</td>\n",
              "      <td>1997-05-22 00:00:00</td>\n",
              "      <td>69.000000</td>\n",
              "      <td>6.000000</td>\n",
              "      <td>11.510046</td>\n",
              "      <td>8.748117</td>\n",
              "      <td>...</td>\n",
              "      <td>0.000000e+00</td>\n",
              "      <td>0.000000e+00</td>\n",
              "      <td>-9.900000e+01</td>\n",
              "      <td>0.000000</td>\n",
              "      <td>2.000000</td>\n",
              "      <td>-99.000000</td>\n",
              "      <td>-9.000000</td>\n",
              "      <td>-9.000000</td>\n",
              "      <td>0.000000</td>\n",
              "      <td>-9.000000</td>\n",
              "    </tr>\n",
              "    <tr>\n",
              "      <th>50%</th>\n",
              "      <td>2.012010e+11</td>\n",
              "      <td>2012.000000</td>\n",
              "      <td>6.000000</td>\n",
              "      <td>15.000000</td>\n",
              "      <td>0.000000</td>\n",
              "      <td>2013-04-29 00:00:00</td>\n",
              "      <td>98.000000</td>\n",
              "      <td>8.000000</td>\n",
              "      <td>31.300213</td>\n",
              "      <td>43.746215</td>\n",
              "      <td>...</td>\n",
              "      <td>1.000000e+04</td>\n",
              "      <td>0.000000e+00</td>\n",
              "      <td>0.000000e+00</td>\n",
              "      <td>0.000000</td>\n",
              "      <td>4.000000</td>\n",
              "      <td>0.000000</td>\n",
              "      <td>0.000000</td>\n",
              "      <td>0.000000</td>\n",
              "      <td>0.000000</td>\n",
              "      <td>0.000000</td>\n",
              "    </tr>\n",
              "    <tr>\n",
              "      <th>75%</th>\n",
              "      <td>2.015123e+11</td>\n",
              "      <td>2015.000000</td>\n",
              "      <td>9.000000</td>\n",
              "      <td>23.000000</td>\n",
              "      <td>0.000000</td>\n",
              "      <td>2016-05-10 00:00:00</td>\n",
              "      <td>160.000000</td>\n",
              "      <td>10.000000</td>\n",
              "      <td>34.557022</td>\n",
              "      <td>68.835918</td>\n",
              "      <td>...</td>\n",
              "      <td>3.420000e+05</td>\n",
              "      <td>0.000000e+00</td>\n",
              "      <td>6.640600e+02</td>\n",
              "      <td>0.000000</td>\n",
              "      <td>7.000000</td>\n",
              "      <td>1.000000</td>\n",
              "      <td>0.000000</td>\n",
              "      <td>0.000000</td>\n",
              "      <td>0.000000</td>\n",
              "      <td>0.000000</td>\n",
              "    </tr>\n",
              "    <tr>\n",
              "      <th>max</th>\n",
              "      <td>2.020123e+11</td>\n",
              "      <td>2020.000000</td>\n",
              "      <td>12.000000</td>\n",
              "      <td>31.000000</td>\n",
              "      <td>1.000000</td>\n",
              "      <td>2021-05-29 00:00:00</td>\n",
              "      <td>1004.000000</td>\n",
              "      <td>12.000000</td>\n",
              "      <td>74.633553</td>\n",
              "      <td>179.366667</td>\n",
              "      <td>...</td>\n",
              "      <td>1.000000e+09</td>\n",
              "      <td>1.320000e+08</td>\n",
              "      <td>2.750000e+08</td>\n",
              "      <td>48000.000000</td>\n",
              "      <td>7.000000</td>\n",
              "      <td>2958.000000</td>\n",
              "      <td>1.000000</td>\n",
              "      <td>1.000000</td>\n",
              "      <td>1.000000</td>\n",
              "      <td>1.000000</td>\n",
              "    </tr>\n",
              "    <tr>\n",
              "      <th>std</th>\n",
              "      <td>1.351933e+09</td>\n",
              "      <td>13.519321</td>\n",
              "      <td>3.387098</td>\n",
              "      <td>8.801104</td>\n",
              "      <td>0.221066</td>\n",
              "      <td>NaN</td>\n",
              "      <td>111.714562</td>\n",
              "      <td>2.905697</td>\n",
              "      <td>18.137061</td>\n",
              "      <td>56.113029</td>\n",
              "      <td>...</td>\n",
              "      <td>2.826923e+07</td>\n",
              "      <td>5.005760e+06</td>\n",
              "      <td>9.195574e+06</td>\n",
              "      <td>2567.718184</td>\n",
              "      <td>2.030311</td>\n",
              "      <td>64.494306</td>\n",
              "      <td>4.543800</td>\n",
              "      <td>4.640302</td>\n",
              "      <td>0.536943</td>\n",
              "      <td>4.677966</td>\n",
              "    </tr>\n",
              "  </tbody>\n",
              "</table>\n",
              "<p>8 rows × 78 columns</p>\n",
              "</div>"
            ],
            "text/plain": [
              "            eventid          iyear         imonth           iday  \\\n",
              "count  2.097060e+05  209706.000000  209706.000000  209706.000000   \n",
              "mean   2.004867e+11    2004.800993       6.455285      15.527930   \n",
              "min    1.970000e+11    1970.000000       0.000000       0.000000   \n",
              "25%    1.992080e+11    1992.000000       4.000000       8.000000   \n",
              "50%    2.012010e+11    2012.000000       6.000000      15.000000   \n",
              "75%    2.015123e+11    2015.000000       9.000000      23.000000   \n",
              "max    2.020123e+11    2020.000000      12.000000      31.000000   \n",
              "std    1.351933e+09      13.519321       3.387098       8.801104   \n",
              "\n",
              "            extended                     resolution        country  \\\n",
              "count  209706.000000                           4861  209706.000000   \n",
              "mean        0.051525  2006-12-14 11:22:40.581978880     130.291351   \n",
              "min         0.000000            1970-03-08 00:00:00       4.000000   \n",
              "25%         0.000000            1997-05-22 00:00:00      69.000000   \n",
              "50%         0.000000            2013-04-29 00:00:00      98.000000   \n",
              "75%         0.000000            2016-05-10 00:00:00     160.000000   \n",
              "max         1.000000            2021-05-29 00:00:00    1004.000000   \n",
              "std         0.221066                            NaN     111.714562   \n",
              "\n",
              "              region       latitude      longitude  ...     ransomamt  \\\n",
              "count  209706.000000  205015.000000  205014.000000  ...  1.533000e+03   \n",
              "mean        7.279854      23.358696      30.416738  ...  2.791526e+06   \n",
              "min         1.000000     -53.154613    -176.176447  ... -9.900000e+01   \n",
              "25%         6.000000      11.510046       8.748117  ...  0.000000e+00   \n",
              "50%         8.000000      31.300213      43.746215  ...  1.000000e+04   \n",
              "75%        10.000000      34.557022      68.835918  ...  3.420000e+05   \n",
              "max        12.000000      74.633553     179.366667  ...  1.000000e+09   \n",
              "std         2.905697      18.137061      56.113029  ...  2.826923e+07   \n",
              "\n",
              "        ransomamtus    ransompaid  ransompaidus  hostkidoutcome     nreleased  \\\n",
              "count  7.340000e+02  9.510000e+02    725.000000    14091.000000  13494.000000   \n",
              "mean   3.211036e+05  6.204108e+05    182.750345        4.705912    -31.945531   \n",
              "min   -9.900000e+01 -9.900000e+01    -99.000000        1.000000   -100.000000   \n",
              "25%    0.000000e+00 -9.900000e+01      0.000000        2.000000    -99.000000   \n",
              "50%    0.000000e+00  0.000000e+00      0.000000        4.000000      0.000000   \n",
              "75%    0.000000e+00  6.640600e+02      0.000000        7.000000      1.000000   \n",
              "max    1.320000e+08  2.750000e+08  48000.000000        7.000000   2958.000000   \n",
              "std    5.005760e+06  9.195574e+06   2567.718184        2.030311     64.494306   \n",
              "\n",
              "             INT_LOG       INT_IDEO       INT_MISC        INT_ANY  \n",
              "count  209706.000000  209706.000000  209706.000000  209706.000000  \n",
              "mean       -4.424289      -4.339318       0.086841      -3.850758  \n",
              "min        -9.000000      -9.000000      -9.000000      -9.000000  \n",
              "25%        -9.000000      -9.000000       0.000000      -9.000000  \n",
              "50%         0.000000       0.000000       0.000000       0.000000  \n",
              "75%         0.000000       0.000000       0.000000       0.000000  \n",
              "max         1.000000       1.000000       1.000000       1.000000  \n",
              "std         4.543800       4.640302       0.536943       4.677966  \n",
              "\n",
              "[8 rows x 78 columns]"
            ]
          },
          "execution_count": 11,
          "metadata": {},
          "output_type": "execute_result"
        }
      ],
      "source": [
        "df.describe()"
      ]
    },
    {
      "cell_type": "code",
      "execution_count": null,
      "id": "da56d43e",
      "metadata": {
        "id": "da56d43e",
        "outputId": "0b5001ac-5d42-43c2-d0d1-34584c167945"
      },
      "outputs": [
        {
          "data": {
            "text/plain": [
              "np.int64(50)"
            ]
          },
          "execution_count": 30,
          "metadata": {},
          "output_type": "execute_result"
        }
      ],
      "source": [
        "attack_per_year = df.groupby('iyear').size()\n",
        "attack_per_year.count()"
      ]
    },
    {
      "cell_type": "code",
      "execution_count": null,
      "id": "2ddf6d60",
      "metadata": {
        "id": "2ddf6d60",
        "outputId": "1bfba0c2-48a0-466e-de3d-fa69f18d7301"
      },
      "outputs": [
        {
          "data": {
            "image/png": "[encoded data removed]",
            "text/plain": [
              "<Figure size 1000x500 with 1 Axes>"
            ]
          },
          "metadata": {},
          "output_type": "display_data"
        }
      ],
      "source": [
        "fig, ax = plt.subplots(figsize = (10, 5))\n",
        "plt.bar(attack_per_year.index, attack_per_year.values, color='skyblue')\n",
        "plt.title('Quantidade de Ataques Terroristas por Ano', fontsize=14)\n",
        "plt.xlabel('Ano', fontsize=12)\n",
        "plt.ylabel('Quantidade de Ataques', fontsize=12)\n",
        "plt.xticks(rotation=45)\n",
        "plt.tight_layout()\n",
        "plt.show()"
      ]
    }
  ],
  "metadata": {
    "kernelspec": {
      "display_name": "Python 3 (ipykernel)",
      "language": "python",
      "name": "python3"
    },
    "language_info": {
      "codemirror_mode": {
        "name": "ipython",
        "version": 3
      },
      "file_extension": ".py",
      "mimetype": "text/x-python",
      "name": "python",
      "nbconvert_exporter": "python",
      "pygments_lexer": "ipython3",
      "version": "3.11.2"
    },
    "colab": {
      "provenance": [],
      "include_colab_link": true
    }
  },
  "nbformat": 4,
  "nbformat_minor": 5
}